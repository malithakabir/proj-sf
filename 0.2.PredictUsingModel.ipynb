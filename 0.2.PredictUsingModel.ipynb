{
 "cells": [
  {
   "cell_type": "markdown",
   "id": "bbba3aa1-7e54-4a5f-8306-06f2e806a3a6",
   "metadata": {},
   "source": [
    "This notebook demonstrates prediction using pretrained model"
   ]
  },
  {
   "cell_type": "markdown",
   "id": "8be12126-5561-447b-93b5-42e5551d2ece",
   "metadata": {},
   "source": [
    "### Importing modules"
   ]
  },
  {
   "cell_type": "code",
   "execution_count": 1,
   "id": "e3c8f44f-2f35-41bf-84d0-c8bd245b5385",
   "metadata": {},
   "outputs": [],
   "source": [
    "import pickle\n",
    "import numpy as np\n",
    "from src.loader import ModelLoader\n",
    "from src.postprocessor import invert_scale_N_feature, calculate_rmse\n",
    "import matplotlib.pyplot as plt"
   ]
  },
  {
   "cell_type": "markdown",
   "id": "6d7e1d89-fe13-4a09-a650-d92097c141a7",
   "metadata": {},
   "source": [
    "### Set up"
   ]
  },
  {
   "cell_type": "markdown",
   "id": "8c0fe3df-437b-4cf9-b01f-b718317a5422",
   "metadata": {},
   "source": [
    "Let's specify $ticker$ and $version$ assuming that the data version and model version are the same.\n",
    "<br> We can always get a fresh set of data and train model using that as shown in $0.1.ModelTrainingWalk-through.ipynb$"
   ]
  },
  {
   "cell_type": "code",
   "execution_count": 2,
   "id": "f2e37515-6ba2-433b-84d4-b20b58493032",
   "metadata": {},
   "outputs": [],
   "source": [
    "ticker = 'QQEW'\n",
    "version = 0\n",
    "rolling_window = 20\n",
    "forecast_horizon = 20"
   ]
  },
  {
   "cell_type": "markdown",
   "id": "f3444df3-8584-48ee-ab36-6318e8972818",
   "metadata": {},
   "source": [
    "### Contruct model name"
   ]
  },
  {
   "cell_type": "markdown",
   "id": "2cdb327d-4a61-4513-add5-e6df97ad264a",
   "metadata": {},
   "source": [
    "Without explicitly specifying model name, we can $construct\\;model\\;name$ using syntax.\n",
    "> Syntax: TICKER_MODELFAMILY_RollingWindow_ForecastHorizon<br>\n",
    "> Example: QQEW_LSTM_RW20_FH20_V2"
   ]
  },
  {
   "cell_type": "code",
   "execution_count": 3,
   "id": "83a68388-e0fd-43d7-8cdf-4a1a5e25b371",
   "metadata": {},
   "outputs": [
    {
     "name": "stdout",
     "output_type": "stream",
     "text": [
      "basename => QQEW_LSTM_RW20_FH20_V0\n"
     ]
    }
   ],
   "source": [
    "basename = '{}_LSTM_RW{}_FH{}_V{}'.format(ticker, rolling_window, forecast_horizon, version)\n",
    "print('basename =>', basename)"
   ]
  },
  {
   "cell_type": "markdown",
   "id": "40984d3a-77d8-4fe8-992f-c8f3612d3cb1",
   "metadata": {},
   "source": [
    "> The same basename will be used to read model training history"
   ]
  },
  {
   "cell_type": "markdown",
   "id": "2928b42c-b95f-425b-b3e0-ff05af3389ce",
   "metadata": {},
   "source": [
    "### Get the dataset"
   ]
  },
  {
   "cell_type": "markdown",
   "id": "44868936-1bac-45b6-9640-9175d598bdde",
   "metadata": {},
   "source": [
    "We have saved all the data in pickle file before training model.<br>\n",
    "The filename schema remains similar.<br>\n",
    "Let's read that."
   ]
  },
  {
   "cell_type": "code",
   "execution_count": 4,
   "id": "376fb598-af96-4260-9127-44de05c88ea7",
   "metadata": {},
   "outputs": [
    {
     "name": "stdout",
     "output_type": "stream",
     "text": [
      "loading dataset from => data/QQEW_PREPROCESSED_V0.pickle\n",
      "dataset loaded\n"
     ]
    }
   ],
   "source": [
    "filename = 'data/{}_PREPROCESSED_V{}.pickle'.format(ticker, version)\n",
    "print('loading dataset from =>', filename)\n",
    "\n",
    "with open(filename, 'rb') as f:\n",
    "    dataset = pickle.load(f)\n",
    "    print('dataset loaded')"
   ]
  },
  {
   "cell_type": "markdown",
   "id": "73d76f1a-aae9-4a01-81c3-b43a91db488e",
   "metadata": {},
   "source": [
    "The dataset object is a python dict. Let's see the keys."
   ]
  },
  {
   "cell_type": "code",
   "execution_count": 5,
   "id": "72ec92f5-a115-4f70-a5a7-eef3b0348a15",
   "metadata": {},
   "outputs": [
    {
     "data": {
      "text/plain": [
       "dict_keys(['splits', 'normalised_train', 'normalised_test', 'training_set', 'test_set'])"
      ]
     },
     "execution_count": 5,
     "metadata": {},
     "output_type": "execute_result"
    }
   ],
   "source": [
    "dataset.keys()"
   ]
  },
  {
   "cell_type": "markdown",
   "id": "01743b9b-49a8-4a87-9c1e-ed2f29af946f",
   "metadata": {},
   "source": [
    "From dataset, we need the followings:<br>\n",
    "> splits:<br>\n",
    "> > we stored df_predict here<br>\n",
    "\n",
    "> normalized_test:<br>\n",
    "> > we stored scalers of test set here<br>\n",
    "\n",
    "> test_set:<br>\n",
    "> > we stored features and labels for testing here"
   ]
  },
  {
   "cell_type": "markdown",
   "id": "6b74c3ad-2546-44ab-b30d-e3aa757899c2",
   "metadata": {},
   "source": [
    "Dataset is a nested dict. Let's access inside the key."
   ]
  },
  {
   "cell_type": "code",
   "execution_count": 6,
   "id": "5615fa75-3b92-469d-a788-6f758ed94099",
   "metadata": {},
   "outputs": [
    {
     "name": "stdout",
     "output_type": "stream",
     "text": [
      "splits -- dict_keys(['df_train', 'df_test', 'df_predict'])\n",
      "normalised_train -- dict_keys(['normalised_data_py_list', 'scalers'])\n",
      "normalised_test -- dict_keys(['normalised_data_py_list', 'scalers'])\n",
      "training_set -- dict_keys(['normalised_data_np_array', 'features', 'labels'])\n",
      "test_set -- dict_keys(['normalised_data_np_array', 'features', 'labels'])\n"
     ]
    }
   ],
   "source": [
    "for key in dataset.keys():\n",
    "    print(key, '--' ,dataset[key].keys())"
   ]
  },
  {
   "cell_type": "markdown",
   "id": "3e0ae33a-a993-4aaf-8667-1b0dfd9bc47b",
   "metadata": {},
   "source": [
    "### Load Model\n",
    "Now, we can instantiate $ModelLoader$ class and load the model using $read\\_model\\_local$ method."
   ]
  },
  {
   "cell_type": "code",
   "execution_count": 7,
   "id": "dd790ea7-2d99-43d7-9a9d-1b64301a19c5",
   "metadata": {},
   "outputs": [],
   "source": [
    "model = ModelLoader()"
   ]
  },
  {
   "cell_type": "markdown",
   "id": "11b75228-d231-4282-8ff6-ff20b68e6197",
   "metadata": {},
   "source": [
    "We have tiny docstring for help text.<br>\n",
    "> Docstrings are not complete at this moment."
   ]
  },
  {
   "cell_type": "code",
   "execution_count": 8,
   "id": "8093df2d-fc05-482b-8b46-c2c5ce80129a",
   "metadata": {},
   "outputs": [
    {
     "name": "stdout",
     "output_type": "stream",
     "text": [
      "Help on method read_model_local in module src.loader:\n",
      "\n",
      "read_model_local(basename=None) method of src.loader.ModelLoader instance\n",
      "    reads model specified by basename from /model directory of project root\n",
      "\n"
     ]
    }
   ],
   "source": [
    "help(model.read_model_local)"
   ]
  },
  {
   "cell_type": "markdown",
   "id": "b238e4d0-368f-42c6-85d1-018473f57dbc",
   "metadata": {},
   "source": [
    "Read the model!"
   ]
  },
  {
   "cell_type": "code",
   "execution_count": 9,
   "id": "325c4eb7-d417-4e9c-8207-7d22843e8de1",
   "metadata": {},
   "outputs": [
    {
     "name": "stdout",
     "output_type": "stream",
     "text": [
      "Loading model from model/QQEW_LSTM_RW20_FH20_V0.h5\n"
     ]
    }
   ],
   "source": [
    "model.read_model_local(basename=basename)"
   ]
  },
  {
   "cell_type": "markdown",
   "id": "53e1d074-6edb-4d31-8988-2fedf2198e66",
   "metadata": {},
   "source": [
    "Model can be accessed in ModelLoader attribute as $model.model$"
   ]
  },
  {
   "cell_type": "markdown",
   "id": "6486511f-4cc2-4369-a90b-611786fdbe8e",
   "metadata": {},
   "source": [
    "Let's read model training history as dict object. It can be accessed as $training\\_history$ attribute of $ModelLoader$ class."
   ]
  },
  {
   "cell_type": "code",
   "execution_count": 10,
   "id": "701b0a21-7bb9-45e3-aadb-50807f0b80e8",
   "metadata": {},
   "outputs": [
    {
     "data": {
      "text/plain": [
       "dict_keys(['loss', 'val_loss', 'lr'])"
      ]
     },
     "execution_count": 10,
     "metadata": {},
     "output_type": "execute_result"
    }
   ],
   "source": [
    "model.read_training_history(basename=basename)\n",
    "model.training_history.keys()"
   ]
  },
  {
   "cell_type": "markdown",
   "id": "821c71a7-db2b-482b-a439-043aeec3050e",
   "metadata": {},
   "source": [
    "In $training\\_history$,<br>\n",
    "> $loss$ stands for loss in training set<br>\n",
    "> $val\\_loss$ stands for loss in validation set\n",
    "\n",
    "We have used test_set as validation set during model training.<br>\n",
    "We will use prediction set to test the model's final accuracy.<br>\n",
    ">> We are having notation assignment problem here."
   ]
  },
  {
   "cell_type": "markdown",
   "id": "d16c231b-7a08-4081-87b9-c37c3ed6d1a0",
   "metadata": {},
   "source": [
    "### Plot\n",
    "Let's plot loss in training set and loss in validation set."
   ]
  },
  {
   "cell_type": "code",
   "execution_count": 11,
   "id": "b93b68fe-3a2f-4227-8c88-e58d4f36d1d1",
   "metadata": {},
   "outputs": [
    {
     "data": {
      "image/png": "[encoded data removed]",
      "text/plain": [
       "<Figure size 640x480 with 1 Axes>"
      ]
     },
     "metadata": {},
     "output_type": "display_data"
    }
   ],
   "source": [
    "plt.plot(model.training_history['loss'], label='Training Loss')\n",
    "plt.plot(model.training_history['val_loss'], label='Validation Loss')\n",
    "plt.xlabel('Epochs')\n",
    "plt.ylabel('Loss')\n",
    "leg = plt.legend(loc='upper right')\n",
    "plt.title('Model parameter optimization for QQEW')\n",
    "plt.show()"
   ]
  },
  {
   "cell_type": "code",
   "execution_count": null,
   "id": "9461ab0a-e1f2-4d31-ac65-c9f0a6d71309",
   "metadata": {},
   "outputs": [],
   "source": []
  },
  {
   "cell_type": "code",
   "execution_count": null,
   "id": "a94be06a-1085-46e5-9c1b-b65d30482576",
   "metadata": {},
   "outputs": [],
   "source": []
  },
  {
   "cell_type": "markdown",
   "id": "dccd8b6b-46fe-4c20-983c-b6b107bf44c3",
   "metadata": {},
   "source": [
    "### Calculated Error (RMSE) in test set"
   ]
  },
  {
   "cell_type": "code",
   "execution_count": 12,
   "id": "ea3d2445-02ec-44d6-9d5e-b176c2be5aa0",
   "metadata": {},
   "outputs": [],
   "source": [
    "# # This cell is to figure out keys\n",
    "# for key in dataset.keys():\n",
    "#     print(key, '--' ,dataset[key].keys())"
   ]
  },
  {
   "cell_type": "code",
   "execution_count": 13,
   "id": "b7e37d89-87ff-4af7-bb22-c19d66b29b26",
   "metadata": {},
   "outputs": [
    {
     "name": "stdout",
     "output_type": "stream",
     "text": [
      "test_set => normalised_data_np_array => shape =>  (1269, 40, 19)\n",
      "test_set => features => shape =>  (1269, 20, 18)\n"
     ]
    }
   ],
   "source": [
    "# This cell is to check test set shape\n",
    "print('test_set => normalised_data_np_array => shape => ', dataset['test_set']['normalised_data_np_array'].shape)\n",
    "print('test_set => features => shape => ', dataset['test_set']['features'].shape)"
   ]
  },
  {
   "cell_type": "markdown",
   "id": "8089f204-783c-475a-9a19-b7c8c7504b99",
   "metadata": {},
   "source": [
    "Run predictions on test set"
   ]
  },
  {
   "cell_type": "code",
   "execution_count": 14,
   "id": "5f7728c7-1fda-4452-90c8-cf0d32a9935c",
   "metadata": {},
   "outputs": [
    {
     "name": "stdout",
     "output_type": "stream",
     "text": [
      "40/40 [==============================] - 5s 114ms/step\n"
     ]
    }
   ],
   "source": [
    "predictions = model.model.predict(dataset['test_set']['features'])"
   ]
  },
  {
   "cell_type": "code",
   "execution_count": 15,
   "id": "a756f6e6-07dd-4c6b-afbc-b8e3cb2e652b",
   "metadata": {},
   "outputs": [],
   "source": [
    "# # check more shapes\n",
    "# print(len(dataset['normalised_test']['scalers']))\n",
    "# print(dataset['test_set']['normalized_data_np_array'].shape)\n",
    "# print(dataset['test_set']['labels'].squeeze().shape)\n",
    "# print(predictions.squeeze().shape)"
   ]
  },
  {
   "cell_type": "markdown",
   "id": "7f4408d5-2fcc-44d0-a00e-4ec3127b87ea",
   "metadata": {},
   "source": [
    "RMSE in USD"
   ]
  },
  {
   "cell_type": "code",
   "execution_count": 16,
   "id": "d1b3625c-39f4-417d-91e8-9aabd6c7f028",
   "metadata": {},
   "outputs": [
    {
     "name": "stdout",
     "output_type": "stream",
     "text": [
      "The avearge root mse on test data is: 1.29\n"
     ]
    }
   ],
   "source": [
    "rmse_in_usd = calculate_rmse(\n",
    "    scalers=dataset['normalised_test']['scalers'], \n",
    "    data=dataset['test_set']['normalised_data_np_array'], \n",
    "    labels=dataset['test_set']['labels'].squeeze(), \n",
    "    predicts=predictions.squeeze(), splitname='test')"
   ]
  },
  {
   "cell_type": "code",
   "execution_count": 17,
   "id": "942cb58a-93d1-4612-a747-4f73c93dea6b",
   "metadata": {},
   "outputs": [],
   "source": [
    "# rmse_in_usd"
   ]
  },
  {
   "cell_type": "markdown",
   "id": "6c73876a-b517-4a62-b257-191b3598d66b",
   "metadata": {},
   "source": [
    "### Visualize last sample from test set"
   ]
  },
  {
   "cell_type": "code",
   "execution_count": 18,
   "id": "2fc2fcdd-0fbf-43d4-ba32-bc7d46d82d66",
   "metadata": {},
   "outputs": [],
   "source": [
    "idx = len(dataset['normalised_test']['scalers']) - 1 \n",
    "# what the date for last sample? \n",
    "# TODO: needs to implement a function to find date using prediction set\n",
    "\n",
    "[inv_true, inv_pred] = invert_scale_N_feature(\n",
    "    scaler=dataset['normalised_test']['scalers'][idx], \n",
    "    data=dataset['test_set']['normalised_data_np_array'][idx], \n",
    "    prediction=predictions.squeeze()[idx]\n",
    ")"
   ]
  },
  {
   "cell_type": "markdown",
   "id": "7d62fff1-3a88-4854-974a-44bc7e6cad6a",
   "metadata": {},
   "source": [
    "Plot prediction results in test set"
   ]
  },
  {
   "cell_type": "code",
   "execution_count": 19,
   "id": "a9df1fc8-55ef-4d24-92aa-0e90e525b0db",
   "metadata": {},
   "outputs": [
    {
     "data": {
      "image/png": "[encoded data removed]",
      "text/plain": [
       "<Figure size 640x480 with 1 Axes>"
      ]
     },
     "metadata": {},
     "output_type": "display_data"
    }
   ],
   "source": [
    "plt.plot(inv_true[-rolling_window:], label='Ground Truth In Validation Set')\n",
    "plt.plot(inv_pred, label='Prediction In Validation Set')\n",
    "plt.xlabel('Days')\n",
    "plt.ylabel('USD')\n",
    "leg = plt.legend(loc='upper right')\n",
    "plt.yticks(ticks=plt.yticks()[0], labels=plt.yticks()[0].astype(int))\n",
    "plt.xticks(ticks=plt.xticks()[0], labels=plt.xticks()[0].astype(int))\n",
    "plt.xlim(xmin=0, xmax=19)  # this line\n",
    "plt.grid()\n",
    "plt.show()"
   ]
  },
  {
   "cell_type": "markdown",
   "id": "80ee0c13-4e71-4ef7-a646-2ac3fbbc0751",
   "metadata": {},
   "source": [
    "### The following needs to be wrapped within a class for repeated use"
   ]
  },
  {
   "cell_type": "markdown",
   "id": "f3f861e7-d23f-443e-be9f-7e50f7ec1729",
   "metadata": {},
   "source": [
    "### Predict using prediction dataset"
   ]
  },
  {
   "cell_type": "code",
   "execution_count": 20,
   "id": "6546f6e8-ac77-4ac1-903e-0f0237da1d55",
   "metadata": {},
   "outputs": [
    {
     "data": {
      "text/html": [
       "<div>\n",
       "<style scoped>\n",
       "    .dataframe tbody tr th:only-of-type {\n",
       "        vertical-align: middle;\n",
       "    }\n",
       "\n",
       "    .dataframe tbody tr th {\n",
       "        vertical-align: top;\n",
       "    }\n",
       "\n",
       "    .dataframe thead th {\n",
       "        text-align: right;\n",
       "    }\n",
       "</style>\n",
       "<table border=\"1\" class=\"dataframe\">\n",
       "  <thead>\n",
       "    <tr style=\"text-align: right;\">\n",
       "      <th></th>\n",
       "      <th>Adj Close</th>\n",
       "      <th>HL_PCT</th>\n",
       "      <th>PCT_change</th>\n",
       "      <th>Volume</th>\n",
       "      <th>MA_5</th>\n",
       "      <th>MA_20</th>\n",
       "      <th>MA_60</th>\n",
       "      <th>EMA_5</th>\n",
       "      <th>up_band</th>\n",
       "      <th>mid_band</th>\n",
       "      <th>low_band</th>\n",
       "      <th>ADX</th>\n",
       "      <th>MACD</th>\n",
       "      <th>RSI</th>\n",
       "      <th>ATR</th>\n",
       "      <th>MOM</th>\n",
       "      <th>WILLR</th>\n",
       "      <th>CCI</th>\n",
       "      <th>OBV</th>\n",
       "    </tr>\n",
       "    <tr>\n",
       "      <th>Date</th>\n",
       "      <th></th>\n",
       "      <th></th>\n",
       "      <th></th>\n",
       "      <th></th>\n",
       "      <th></th>\n",
       "      <th></th>\n",
       "      <th></th>\n",
       "      <th></th>\n",
       "      <th></th>\n",
       "      <th></th>\n",
       "      <th></th>\n",
       "      <th></th>\n",
       "      <th></th>\n",
       "      <th></th>\n",
       "      <th></th>\n",
       "      <th></th>\n",
       "      <th></th>\n",
       "      <th></th>\n",
       "      <th></th>\n",
       "    </tr>\n",
       "  </thead>\n",
       "  <tbody>\n",
       "    <tr>\n",
       "      <th>2023-11-20</th>\n",
       "      <td>109.029999</td>\n",
       "      <td>1.289424</td>\n",
       "      <td>1.075365</td>\n",
       "      <td>179600</td>\n",
       "      <td>107.832001</td>\n",
       "      <td>103.161501</td>\n",
       "      <td>104.579355</td>\n",
       "      <td>104.508000</td>\n",
       "      <td>109.075310</td>\n",
       "      <td>107.832001</td>\n",
       "      <td>106.588691</td>\n",
       "      <td>16.257619</td>\n",
       "      <td>0.808405</td>\n",
       "      <td>67.801064</td>\n",
       "      <td>1.479729</td>\n",
       "      <td>5.589996</td>\n",
       "      <td>-2.473008</td>\n",
       "      <td>123.175739</td>\n",
       "      <td>10456600.0</td>\n",
       "    </tr>\n",
       "    <tr>\n",
       "      <th>2023-11-21</th>\n",
       "      <td>108.360001</td>\n",
       "      <td>0.546242</td>\n",
       "      <td>-0.220993</td>\n",
       "      <td>50500</td>\n",
       "      <td>108.024001</td>\n",
       "      <td>103.490001</td>\n",
       "      <td>104.620254</td>\n",
       "      <td>105.127334</td>\n",
       "      <td>109.237298</td>\n",
       "      <td>108.024001</td>\n",
       "      <td>106.810703</td>\n",
       "      <td>16.825209</td>\n",
       "      <td>0.733538</td>\n",
       "      <td>64.454540</td>\n",
       "      <td>1.446891</td>\n",
       "      <td>4.080002</td>\n",
       "      <td>-12.828465</td>\n",
       "      <td>93.614549</td>\n",
       "      <td>10406100.0</td>\n",
       "    </tr>\n",
       "    <tr>\n",
       "      <th>2023-11-22</th>\n",
       "      <td>108.699997</td>\n",
       "      <td>0.782904</td>\n",
       "      <td>-0.027597</td>\n",
       "      <td>68800</td>\n",
       "      <td>108.220000</td>\n",
       "      <td>103.954500</td>\n",
       "      <td>104.633538</td>\n",
       "      <td>105.703334</td>\n",
       "      <td>109.488886</td>\n",
       "      <td>108.220000</td>\n",
       "      <td>106.951113</td>\n",
       "      <td>17.552810</td>\n",
       "      <td>0.663583</td>\n",
       "      <td>65.388154</td>\n",
       "      <td>1.419255</td>\n",
       "      <td>4.979996</td>\n",
       "      <td>-10.746292</td>\n",
       "      <td>96.026786</td>\n",
       "      <td>10474900.0</td>\n",
       "    </tr>\n",
       "    <tr>\n",
       "      <th>2023-11-24</th>\n",
       "      <td>109.000000</td>\n",
       "      <td>0.331126</td>\n",
       "      <td>0.183821</td>\n",
       "      <td>34700</td>\n",
       "      <td>108.559999</td>\n",
       "      <td>104.488000</td>\n",
       "      <td>104.640839</td>\n",
       "      <td>106.161334</td>\n",
       "      <td>109.538406</td>\n",
       "      <td>108.559999</td>\n",
       "      <td>107.581592</td>\n",
       "      <td>18.244031</td>\n",
       "      <td>0.596310</td>\n",
       "      <td>66.230980</td>\n",
       "      <td>1.345023</td>\n",
       "      <td>6.190002</td>\n",
       "      <td>-6.491470</td>\n",
       "      <td>84.952810</td>\n",
       "      <td>10509600.0</td>\n",
       "    </tr>\n",
       "    <tr>\n",
       "      <th>2023-11-27</th>\n",
       "      <td>108.720001</td>\n",
       "      <td>0.617510</td>\n",
       "      <td>-0.137780</td>\n",
       "      <td>53700</td>\n",
       "      <td>108.762000</td>\n",
       "      <td>105.029500</td>\n",
       "      <td>104.644638</td>\n",
       "      <td>106.483334</td>\n",
       "      <td>109.248357</td>\n",
       "      <td>108.762000</td>\n",
       "      <td>108.275642</td>\n",
       "      <td>18.800600</td>\n",
       "      <td>0.495871</td>\n",
       "      <td>64.648683</td>\n",
       "      <td>1.296807</td>\n",
       "      <td>4.070000</td>\n",
       "      <td>-12.658175</td>\n",
       "      <td>72.870241</td>\n",
       "      <td>10455900.0</td>\n",
       "    </tr>\n",
       "    <tr>\n",
       "      <th>2023-11-28</th>\n",
       "      <td>108.889999</td>\n",
       "      <td>0.626902</td>\n",
       "      <td>0.193227</td>\n",
       "      <td>79700</td>\n",
       "      <td>108.734000</td>\n",
       "      <td>105.564500</td>\n",
       "      <td>104.645114</td>\n",
       "      <td>106.846667</td>\n",
       "      <td>109.168805</td>\n",
       "      <td>108.734000</td>\n",
       "      <td>108.299194</td>\n",
       "      <td>19.315225</td>\n",
       "      <td>0.407496</td>\n",
       "      <td>65.192401</td>\n",
       "      <td>1.252749</td>\n",
       "      <td>4.479996</td>\n",
       "      <td>-16.562478</td>\n",
       "      <td>68.749304</td>\n",
       "      <td>10535600.0</td>\n",
       "    </tr>\n",
       "    <tr>\n",
       "      <th>2023-11-29</th>\n",
       "      <td>109.529999</td>\n",
       "      <td>0.923051</td>\n",
       "      <td>-0.036507</td>\n",
       "      <td>184900</td>\n",
       "      <td>108.967999</td>\n",
       "      <td>106.087500</td>\n",
       "      <td>104.664077</td>\n",
       "      <td>107.196667</td>\n",
       "      <td>109.572171</td>\n",
       "      <td>108.967999</td>\n",
       "      <td>108.363827</td>\n",
       "      <td>20.120595</td>\n",
       "      <td>0.360382</td>\n",
       "      <td>67.235510</td>\n",
       "      <td>1.273267</td>\n",
       "      <td>2.129997</td>\n",
       "      <td>-25.210129</td>\n",
       "      <td>99.768273</td>\n",
       "      <td>10720500.0</td>\n",
       "    </tr>\n",
       "    <tr>\n",
       "      <th>2023-11-30</th>\n",
       "      <td>109.610001</td>\n",
       "      <td>0.973994</td>\n",
       "      <td>-0.245720</td>\n",
       "      <td>167200</td>\n",
       "      <td>109.150000</td>\n",
       "      <td>106.565000</td>\n",
       "      <td>104.687037</td>\n",
       "      <td>107.589334</td>\n",
       "      <td>109.860492</td>\n",
       "      <td>109.150000</td>\n",
       "      <td>108.439508</td>\n",
       "      <td>20.604605</td>\n",
       "      <td>0.305040</td>\n",
       "      <td>67.492376</td>\n",
       "      <td>1.258034</td>\n",
       "      <td>1.889999</td>\n",
       "      <td>-22.969181</td>\n",
       "      <td>82.629837</td>\n",
       "      <td>10887700.0</td>\n",
       "    </tr>\n",
       "    <tr>\n",
       "      <th>2023-12-01</th>\n",
       "      <td>110.779999</td>\n",
       "      <td>1.530564</td>\n",
       "      <td>1.261423</td>\n",
       "      <td>105100</td>\n",
       "      <td>109.506000</td>\n",
       "      <td>106.997500</td>\n",
       "      <td>104.741810</td>\n",
       "      <td>108.120667</td>\n",
       "      <td>110.956990</td>\n",
       "      <td>109.506000</td>\n",
       "      <td>108.055010</td>\n",
       "      <td>21.281476</td>\n",
       "      <td>0.316307</td>\n",
       "      <td>71.065076</td>\n",
       "      <td>1.287460</td>\n",
       "      <td>3.479996</td>\n",
       "      <td>-0.000000</td>\n",
       "      <td>124.293630</td>\n",
       "      <td>10992800.0</td>\n",
       "    </tr>\n",
       "    <tr>\n",
       "      <th>2023-12-04</th>\n",
       "      <td>110.110001</td>\n",
       "      <td>1.016391</td>\n",
       "      <td>0.081807</td>\n",
       "      <td>126200</td>\n",
       "      <td>109.784000</td>\n",
       "      <td>107.308500</td>\n",
       "      <td>104.786415</td>\n",
       "      <td>108.484667</td>\n",
       "      <td>111.046480</td>\n",
       "      <td>109.784000</td>\n",
       "      <td>108.521520</td>\n",
       "      <td>21.924503</td>\n",
       "      <td>0.250588</td>\n",
       "      <td>66.554210</td>\n",
       "      <td>1.307641</td>\n",
       "      <td>2.400002</td>\n",
       "      <td>-22.483192</td>\n",
       "      <td>105.656377</td>\n",
       "      <td>10866600.0</td>\n",
       "    </tr>\n",
       "    <tr>\n",
       "      <th>2023-12-05</th>\n",
       "      <td>109.400002</td>\n",
       "      <td>0.762309</td>\n",
       "      <td>0.073181</td>\n",
       "      <td>213700</td>\n",
       "      <td>109.886000</td>\n",
       "      <td>107.606500</td>\n",
       "      <td>104.805043</td>\n",
       "      <td>108.817333</td>\n",
       "      <td>110.901290</td>\n",
       "      <td>109.886000</td>\n",
       "      <td>108.870710</td>\n",
       "      <td>22.369192</td>\n",
       "      <td>0.136937</td>\n",
       "      <td>62.058736</td>\n",
       "      <td>1.302096</td>\n",
       "      <td>0.370003</td>\n",
       "      <td>-49.819456</td>\n",
       "      <td>48.964872</td>\n",
       "      <td>10652900.0</td>\n",
       "    </tr>\n",
       "    <tr>\n",
       "      <th>2023-12-06</th>\n",
       "      <td>109.239998</td>\n",
       "      <td>1.044817</td>\n",
       "      <td>-0.736034</td>\n",
       "      <td>161400</td>\n",
       "      <td>109.828000</td>\n",
       "      <td>107.854500</td>\n",
       "      <td>104.834815</td>\n",
       "      <td>108.940000</td>\n",
       "      <td>110.945955</td>\n",
       "      <td>109.828000</td>\n",
       "      <td>108.710045</td>\n",
       "      <td>22.933234</td>\n",
       "      <td>0.033988</td>\n",
       "      <td>61.057819</td>\n",
       "      <td>1.290517</td>\n",
       "      <td>0.879997</td>\n",
       "      <td>-66.666777</td>\n",
       "      <td>59.986226</td>\n",
       "      <td>10491500.0</td>\n",
       "    </tr>\n",
       "    <tr>\n",
       "      <th>2023-12-07</th>\n",
       "      <td>110.330002</td>\n",
       "      <td>1.005851</td>\n",
       "      <td>0.363869</td>\n",
       "      <td>73100</td>\n",
       "      <td>109.972000</td>\n",
       "      <td>108.185000</td>\n",
       "      <td>104.884585</td>\n",
       "      <td>109.114000</td>\n",
       "      <td>111.125458</td>\n",
       "      <td>109.972000</td>\n",
       "      <td>108.818542</td>\n",
       "      <td>23.523746</td>\n",
       "      <td>0.022838</td>\n",
       "      <td>65.178130</td>\n",
       "      <td>1.285481</td>\n",
       "      <td>1.630005</td>\n",
       "      <td>-19.480408</td>\n",
       "      <td>100.926031</td>\n",
       "      <td>10564600.0</td>\n",
       "    </tr>\n",
       "    <tr>\n",
       "      <th>2023-12-08</th>\n",
       "      <td>110.559998</td>\n",
       "      <td>1.085168</td>\n",
       "      <td>0.545652</td>\n",
       "      <td>78400</td>\n",
       "      <td>109.928000</td>\n",
       "      <td>108.572500</td>\n",
       "      <td>104.921214</td>\n",
       "      <td>109.331333</td>\n",
       "      <td>110.965798</td>\n",
       "      <td>109.928000</td>\n",
       "      <td>108.890202</td>\n",
       "      <td>24.186567</td>\n",
       "      <td>0.014876</td>\n",
       "      <td>65.995691</td>\n",
       "      <td>1.278660</td>\n",
       "      <td>1.559998</td>\n",
       "      <td>-12.184926</td>\n",
       "      <td>123.928226</td>\n",
       "      <td>10643000.0</td>\n",
       "    </tr>\n",
       "    <tr>\n",
       "      <th>2023-12-11</th>\n",
       "      <td>112.639999</td>\n",
       "      <td>1.612178</td>\n",
       "      <td>1.450059</td>\n",
       "      <td>131100</td>\n",
       "      <td>110.434000</td>\n",
       "      <td>108.972000</td>\n",
       "      <td>105.022131</td>\n",
       "      <td>109.660000</td>\n",
       "      <td>112.865118</td>\n",
       "      <td>110.434000</td>\n",
       "      <td>108.002882</td>\n",
       "      <td>25.266153</td>\n",
       "      <td>0.127358</td>\n",
       "      <td>72.324147</td>\n",
       "      <td>1.348756</td>\n",
       "      <td>3.919998</td>\n",
       "      <td>-4.137940</td>\n",
       "      <td>248.200343</td>\n",
       "      <td>10774100.0</td>\n",
       "    </tr>\n",
       "    <tr>\n",
       "      <th>2023-12-12</th>\n",
       "      <td>113.220001</td>\n",
       "      <td>0.972003</td>\n",
       "      <td>0.461406</td>\n",
       "      <td>137000</td>\n",
       "      <td>111.198000</td>\n",
       "      <td>109.412500</td>\n",
       "      <td>105.133879</td>\n",
       "      <td>109.939333</td>\n",
       "      <td>114.186255</td>\n",
       "      <td>111.198000</td>\n",
       "      <td>108.209744</td>\n",
       "      <td>26.373740</td>\n",
       "      <td>0.213418</td>\n",
       "      <td>73.789011</td>\n",
       "      <td>1.330274</td>\n",
       "      <td>4.330002</td>\n",
       "      <td>-0.227321</td>\n",
       "      <td>228.538124</td>\n",
       "      <td>10911100.0</td>\n",
       "    </tr>\n",
       "    <tr>\n",
       "      <th>2023-12-13</th>\n",
       "      <td>115.430000</td>\n",
       "      <td>1.942602</td>\n",
       "      <td>1.682526</td>\n",
       "      <td>360900</td>\n",
       "      <td>112.436000</td>\n",
       "      <td>109.814000</td>\n",
       "      <td>105.288452</td>\n",
       "      <td>110.410666</td>\n",
       "      <td>116.185659</td>\n",
       "      <td>112.436000</td>\n",
       "      <td>108.686341</td>\n",
       "      <td>27.812452</td>\n",
       "      <td>0.381943</td>\n",
       "      <td>78.466020</td>\n",
       "      <td>1.394540</td>\n",
       "      <td>5.900002</td>\n",
       "      <td>-0.302064</td>\n",
       "      <td>234.100500</td>\n",
       "      <td>11272000.0</td>\n",
       "    </tr>\n",
       "    <tr>\n",
       "      <th>2023-12-14</th>\n",
       "      <td>116.300003</td>\n",
       "      <td>1.263303</td>\n",
       "      <td>-0.025788</td>\n",
       "      <td>173000</td>\n",
       "      <td>113.630000</td>\n",
       "      <td>110.243000</td>\n",
       "      <td>105.473000</td>\n",
       "      <td>110.917333</td>\n",
       "      <td>117.723120</td>\n",
       "      <td>113.630000</td>\n",
       "      <td>109.536881</td>\n",
       "      <td>29.401716</td>\n",
       "      <td>0.506935</td>\n",
       "      <td>79.980460</td>\n",
       "      <td>1.409215</td>\n",
       "      <td>6.690002</td>\n",
       "      <td>-8.957001</td>\n",
       "      <td>201.999329</td>\n",
       "      <td>11445000.0</td>\n",
       "    </tr>\n",
       "    <tr>\n",
       "      <th>2023-12-15</th>\n",
       "      <td>116.150002</td>\n",
       "      <td>0.777002</td>\n",
       "      <td>-0.428633</td>\n",
       "      <td>101200</td>\n",
       "      <td>114.748001</td>\n",
       "      <td>110.685500</td>\n",
       "      <td>105.686333</td>\n",
       "      <td>111.394000</td>\n",
       "      <td>117.796659</td>\n",
       "      <td>114.748001</td>\n",
       "      <td>111.699343</td>\n",
       "      <td>30.911516</td>\n",
       "      <td>0.531839</td>\n",
       "      <td>78.949512</td>\n",
       "      <td>1.372843</td>\n",
       "      <td>5.370003</td>\n",
       "      <td>-10.797510</td>\n",
       "      <td>147.934430</td>\n",
       "      <td>11343800.0</td>\n",
       "    </tr>\n",
       "    <tr>\n",
       "      <th>2023-12-18</th>\n",
       "      <td>116.410004</td>\n",
       "      <td>0.525947</td>\n",
       "      <td>-0.034344</td>\n",
       "      <td>108500</td>\n",
       "      <td>115.502002</td>\n",
       "      <td>111.120500</td>\n",
       "      <td>105.903333</td>\n",
       "      <td>111.906667</td>\n",
       "      <td>117.884251</td>\n",
       "      <td>115.502002</td>\n",
       "      <td>113.119753</td>\n",
       "      <td>32.345826</td>\n",
       "      <td>0.517658</td>\n",
       "      <td>79.444113</td>\n",
       "      <td>1.318354</td>\n",
       "      <td>6.300003</td>\n",
       "      <td>-7.607301</td>\n",
       "      <td>120.756616</td>\n",
       "      <td>11452300.0</td>\n",
       "    </tr>\n",
       "  </tbody>\n",
       "</table>\n",
       "</div>"
      ],
      "text/plain": [
       "             Adj Close    HL_PCT  PCT_change  Volume        MA_5       MA_20  \\\n",
       "Date                                                                           \n",
       "2023-11-20  109.029999  1.289424    1.075365  179600  107.832001  103.161501   \n",
       "2023-11-21  108.360001  0.546242   -0.220993   50500  108.024001  103.490001   \n",
       "2023-11-22  108.699997  0.782904   -0.027597   68800  108.220000  103.954500   \n",
       "2023-11-24  109.000000  0.331126    0.183821   34700  108.559999  104.488000   \n",
       "2023-11-27  108.720001  0.617510   -0.137780   53700  108.762000  105.029500   \n",
       "2023-11-28  108.889999  0.626902    0.193227   79700  108.734000  105.564500   \n",
       "2023-11-29  109.529999  0.923051   -0.036507  184900  108.967999  106.087500   \n",
       "2023-11-30  109.610001  0.973994   -0.245720  167200  109.150000  106.565000   \n",
       "2023-12-01  110.779999  1.530564    1.261423  105100  109.506000  106.997500   \n",
       "2023-12-04  110.110001  1.016391    0.081807  126200  109.784000  107.308500   \n",
       "2023-12-05  109.400002  0.762309    0.073181  213700  109.886000  107.606500   \n",
       "2023-12-06  109.239998  1.044817   -0.736034  161400  109.828000  107.854500   \n",
       "2023-12-07  110.330002  1.005851    0.363869   73100  109.972000  108.185000   \n",
       "2023-12-08  110.559998  1.085168    0.545652   78400  109.928000  108.572500   \n",
       "2023-12-11  112.639999  1.612178    1.450059  131100  110.434000  108.972000   \n",
       "2023-12-12  113.220001  0.972003    0.461406  137000  111.198000  109.412500   \n",
       "2023-12-13  115.430000  1.942602    1.682526  360900  112.436000  109.814000   \n",
       "2023-12-14  116.300003  1.263303   -0.025788  173000  113.630000  110.243000   \n",
       "2023-12-15  116.150002  0.777002   -0.428633  101200  114.748001  110.685500   \n",
       "2023-12-18  116.410004  0.525947   -0.034344  108500  115.502002  111.120500   \n",
       "\n",
       "                 MA_60       EMA_5     up_band    mid_band    low_band  \\\n",
       "Date                                                                     \n",
       "2023-11-20  104.579355  104.508000  109.075310  107.832001  106.588691   \n",
       "2023-11-21  104.620254  105.127334  109.237298  108.024001  106.810703   \n",
       "2023-11-22  104.633538  105.703334  109.488886  108.220000  106.951113   \n",
       "2023-11-24  104.640839  106.161334  109.538406  108.559999  107.581592   \n",
       "2023-11-27  104.644638  106.483334  109.248357  108.762000  108.275642   \n",
       "2023-11-28  104.645114  106.846667  109.168805  108.734000  108.299194   \n",
       "2023-11-29  104.664077  107.196667  109.572171  108.967999  108.363827   \n",
       "2023-11-30  104.687037  107.589334  109.860492  109.150000  108.439508   \n",
       "2023-12-01  104.741810  108.120667  110.956990  109.506000  108.055010   \n",
       "2023-12-04  104.786415  108.484667  111.046480  109.784000  108.521520   \n",
       "2023-12-05  104.805043  108.817333  110.901290  109.886000  108.870710   \n",
       "2023-12-06  104.834815  108.940000  110.945955  109.828000  108.710045   \n",
       "2023-12-07  104.884585  109.114000  111.125458  109.972000  108.818542   \n",
       "2023-12-08  104.921214  109.331333  110.965798  109.928000  108.890202   \n",
       "2023-12-11  105.022131  109.660000  112.865118  110.434000  108.002882   \n",
       "2023-12-12  105.133879  109.939333  114.186255  111.198000  108.209744   \n",
       "2023-12-13  105.288452  110.410666  116.185659  112.436000  108.686341   \n",
       "2023-12-14  105.473000  110.917333  117.723120  113.630000  109.536881   \n",
       "2023-12-15  105.686333  111.394000  117.796659  114.748001  111.699343   \n",
       "2023-12-18  105.903333  111.906667  117.884251  115.502002  113.119753   \n",
       "\n",
       "                  ADX      MACD        RSI       ATR       MOM      WILLR  \\\n",
       "Date                                                                        \n",
       "2023-11-20  16.257619  0.808405  67.801064  1.479729  5.589996  -2.473008   \n",
       "2023-11-21  16.825209  0.733538  64.454540  1.446891  4.080002 -12.828465   \n",
       "2023-11-22  17.552810  0.663583  65.388154  1.419255  4.979996 -10.746292   \n",
       "2023-11-24  18.244031  0.596310  66.230980  1.345023  6.190002  -6.491470   \n",
       "2023-11-27  18.800600  0.495871  64.648683  1.296807  4.070000 -12.658175   \n",
       "2023-11-28  19.315225  0.407496  65.192401  1.252749  4.479996 -16.562478   \n",
       "2023-11-29  20.120595  0.360382  67.235510  1.273267  2.129997 -25.210129   \n",
       "2023-11-30  20.604605  0.305040  67.492376  1.258034  1.889999 -22.969181   \n",
       "2023-12-01  21.281476  0.316307  71.065076  1.287460  3.479996  -0.000000   \n",
       "2023-12-04  21.924503  0.250588  66.554210  1.307641  2.400002 -22.483192   \n",
       "2023-12-05  22.369192  0.136937  62.058736  1.302096  0.370003 -49.819456   \n",
       "2023-12-06  22.933234  0.033988  61.057819  1.290517  0.879997 -66.666777   \n",
       "2023-12-07  23.523746  0.022838  65.178130  1.285481  1.630005 -19.480408   \n",
       "2023-12-08  24.186567  0.014876  65.995691  1.278660  1.559998 -12.184926   \n",
       "2023-12-11  25.266153  0.127358  72.324147  1.348756  3.919998  -4.137940   \n",
       "2023-12-12  26.373740  0.213418  73.789011  1.330274  4.330002  -0.227321   \n",
       "2023-12-13  27.812452  0.381943  78.466020  1.394540  5.900002  -0.302064   \n",
       "2023-12-14  29.401716  0.506935  79.980460  1.409215  6.690002  -8.957001   \n",
       "2023-12-15  30.911516  0.531839  78.949512  1.372843  5.370003 -10.797510   \n",
       "2023-12-18  32.345826  0.517658  79.444113  1.318354  6.300003  -7.607301   \n",
       "\n",
       "                   CCI         OBV  \n",
       "Date                                \n",
       "2023-11-20  123.175739  10456600.0  \n",
       "2023-11-21   93.614549  10406100.0  \n",
       "2023-11-22   96.026786  10474900.0  \n",
       "2023-11-24   84.952810  10509600.0  \n",
       "2023-11-27   72.870241  10455900.0  \n",
       "2023-11-28   68.749304  10535600.0  \n",
       "2023-11-29   99.768273  10720500.0  \n",
       "2023-11-30   82.629837  10887700.0  \n",
       "2023-12-01  124.293630  10992800.0  \n",
       "2023-12-04  105.656377  10866600.0  \n",
       "2023-12-05   48.964872  10652900.0  \n",
       "2023-12-06   59.986226  10491500.0  \n",
       "2023-12-07  100.926031  10564600.0  \n",
       "2023-12-08  123.928226  10643000.0  \n",
       "2023-12-11  248.200343  10774100.0  \n",
       "2023-12-12  228.538124  10911100.0  \n",
       "2023-12-13  234.100500  11272000.0  \n",
       "2023-12-14  201.999329  11445000.0  \n",
       "2023-12-15  147.934430  11343800.0  \n",
       "2023-12-18  120.756616  11452300.0  "
      ]
     },
     "execution_count": 20,
     "metadata": {},
     "output_type": "execute_result"
    }
   ],
   "source": [
    "# prediction dataset\n",
    "dataset['splits']['df_predict']"
   ]
  },
  {
   "cell_type": "code",
   "execution_count": 21,
   "id": "d78212b2-0977-4305-8a9d-11bcd3a98228",
   "metadata": {},
   "outputs": [
    {
     "name": "stdout",
     "output_type": "stream",
     "text": [
      "from Nov-20-2023 to Dec-18-2023\n"
     ]
    }
   ],
   "source": [
    "first_date = dataset['splits']['df_predict'].index[0].date().strftime('%b-%d-%Y')\n",
    "last_date = dataset['splits']['df_predict'].index[-1].date().strftime('%b-%d-%Y')\n",
    "print('from {} to {}'.format(first_date, last_date))"
   ]
  },
  {
   "cell_type": "code",
   "execution_count": 22,
   "id": "7f27f4cb-ad34-47a2-8c3d-ae40999ffc52",
   "metadata": {},
   "outputs": [],
   "source": [
    "from sklearn.preprocessing import StandardScaler\n",
    "scaler = StandardScaler()"
   ]
  },
  {
   "cell_type": "markdown",
   "id": "9e9c0191-f73f-4cf8-848b-e270e5bb987c",
   "metadata": {},
   "source": [
    "Scaling data for prediction"
   ]
  },
  {
   "cell_type": "code",
   "execution_count": 23,
   "id": "eb4e4de2-dc14-4295-b20d-7a6675efb200",
   "metadata": {},
   "outputs": [
    {
     "data": {
      "text/plain": [
       "(1, 20, 19)"
      ]
     },
     "execution_count": 23,
     "metadata": {},
     "output_type": "execute_result"
    }
   ],
   "source": [
    "scaler.fit(dataset['splits']['df_predict'])\n",
    "\n",
    "# scaling data\n",
    "ndata = scaler.transform(dataset['splits']['df_predict'])\n",
    "ndata_arr = np.array([ndata])\n",
    "ndata_arr.shape"
   ]
  },
  {
   "cell_type": "markdown",
   "id": "265da786-fdeb-44aa-b20b-3057fae65038",
   "metadata": {},
   "source": [
    "Isolating features and label from scaled data"
   ]
  },
  {
   "cell_type": "code",
   "execution_count": 24,
   "id": "ffce6884-b5f9-43f6-85a0-052a105569d8",
   "metadata": {},
   "outputs": [],
   "source": [
    "ndata_arr_feature = ndata_arr[:, :, 1:]\n",
    "ndata_arr_label = ndata_arr[:,:,:0] # This is not required since the future is unknown"
   ]
  },
  {
   "cell_type": "code",
   "execution_count": 25,
   "id": "263d242d-ec88-4e56-9527-a07ac1033e8d",
   "metadata": {},
   "outputs": [],
   "source": [
    "# ndata_arr_feature.shape"
   ]
  },
  {
   "cell_type": "markdown",
   "id": "8d0cffc7-a6e0-4807-b9db-204b6bf84117",
   "metadata": {},
   "source": [
    "Predicting future price"
   ]
  },
  {
   "cell_type": "code",
   "execution_count": 26,
   "id": "35130e19-66b8-406c-934f-49d31c329097",
   "metadata": {},
   "outputs": [
    {
     "name": "stdout",
     "output_type": "stream",
     "text": [
      "1/1 [==============================] - 0s 22ms/step\n"
     ]
    }
   ],
   "source": [
    "forecast = model.model.predict(ndata_arr_feature)"
   ]
  },
  {
   "cell_type": "code",
   "execution_count": 27,
   "id": "a9f71259-fc1d-4bf8-80c8-cf6e66fa42b5",
   "metadata": {},
   "outputs": [
    {
     "data": {
      "text/plain": [
       "(1, 20, 1)"
      ]
     },
     "execution_count": 27,
     "metadata": {},
     "output_type": "execute_result"
    }
   ],
   "source": [
    "forecast.shape"
   ]
  },
  {
   "cell_type": "markdown",
   "id": "d8932f0c-b84e-4696-80c6-96c6d87f6e31",
   "metadata": {},
   "source": [
    "> Inversing scale: normalised data to USD"
   ]
  },
  {
   "cell_type": "code",
   "execution_count": 28,
   "id": "05263662-800b-42b6-8bf8-6b367cd06af0",
   "metadata": {},
   "outputs": [],
   "source": [
    "[_, inv_pred_forecast] = invert_scale_N_feature(\n",
    "    scaler=scaler, \n",
    "    data=ndata_arr[0], \n",
    "    prediction=forecast.squeeze()\n",
    ") # we do not have any true inverse here. TODO: Implement new version"
   ]
  },
  {
   "cell_type": "markdown",
   "id": "cb309aa0-3d7b-4acb-bd2d-d1f3c7cc0179",
   "metadata": {},
   "source": [
    "prepare date for axis labeling"
   ]
  },
  {
   "cell_type": "code",
   "execution_count": 29,
   "id": "3b0f33c4-b128-4543-8e43-e230bcf68ec0",
   "metadata": {},
   "outputs": [],
   "source": [
    "# TODO: Needs to implement calender\n",
    "# dates = [ date.date().isoformat() for date in dataset['splits']['df_predict'].index.tolist()]\n",
    "# # dates"
   ]
  },
  {
   "cell_type": "code",
   "execution_count": 30,
   "id": "afe4afc7-42a8-404b-8ca4-2f0809aeca72",
   "metadata": {},
   "outputs": [],
   "source": [
    "# print(inv_true_forecast.shape)\n",
    "# print(inv_pred_forecast.shape)"
   ]
  },
  {
   "cell_type": "code",
   "execution_count": 31,
   "id": "9dca40f4-7172-439f-a6a7-78b0c9ba28fc",
   "metadata": {},
   "outputs": [
    {
     "data": {
      "image/png": "[encoded data removed]",
      "text/plain": [
       "<Figure size 640x480 with 1 Axes>"
      ]
     },
     "metadata": {},
     "output_type": "display_data"
    }
   ],
   "source": [
    "plt.plot(inv_pred_forecast, label='Prediction')\n",
    "plt.xlabel('Days')\n",
    "plt.ylabel('USD')\n",
    "leg = plt.legend(loc='upper right')\n",
    "plt.yticks(ticks=plt.yticks()[0], labels=plt.yticks()[0].astype(int))\n",
    "# plt.xticks(ticks=list(range(20)), labels=dates, rotation = 90) # TODO: Needs to implement calender\n",
    "plt.xticks(np.arange(len(inv_pred_forecast)), np.arange(1, len(inv_pred_forecast)+1))\n",
    "# plt.title(\"Prediction for QQEW (Oct 20, 2023 - Nov 16, 2023)\")\n",
    "plt.grid()\n",
    "plt.title('Prediction for next 20 days after {} for QQEW\\n Input data for ML model was: {} - {}'.format(last_date, first_date, last_date))\n",
    "plt.show()"
   ]
  },
  {
   "cell_type": "markdown",
   "id": "853ff437-f2b8-46f1-bc7f-2bc8e1afe64e",
   "metadata": {},
   "source": [
    "Will be updated soon"
   ]
  }
 ],
 "metadata": {
  "kernelspec": {
   "display_name": "Python 3 (ipykernel)",
   "language": "python",
   "name": "python3"
  },
  "language_info": {
   "codemirror_mode": {
    "name": "ipython",
    "version": 3
   },
   "file_extension": ".py",
   "mimetype": "text/x-python",
   "name": "python",
   "nbconvert_exporter": "python",
   "pygments_lexer": "ipython3",
   "version": "3.8.16"
  }
 },
 "nbformat": 4,
 "nbformat_minor": 5
}
