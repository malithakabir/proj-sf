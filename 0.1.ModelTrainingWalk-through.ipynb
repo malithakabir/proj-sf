{
 "cells": [
  {
   "cell_type": "markdown",
   "id": "b805cd83-8ddd-4b3c-afcf-e7639d6b7a6e",
   "metadata": {},
   "source": [
    "This notebook demonstrate full walk-through from data retrieval to model training"
   ]
  },
  {
   "cell_type": "markdown",
   "id": "3dbe4e1d-628f-469f-bdff-61e317344b95",
   "metadata": {},
   "source": [
    "### Import modules"
   ]
  },
  {
   "cell_type": "code",
   "execution_count": null,
   "id": "a923d1e9-ecad-4e68-b97d-08d6982bffae",
   "metadata": {},
   "outputs": [],
   "source": [
    "from src.loader import DataLoader\n",
    "from src.preprocessor import Preprocessor\n",
    "from src.dataprep import DataPrepTraining\n",
    "from src.model import CustomModel"
   ]
  },
  {
   "cell_type": "markdown",
   "id": "761df74e-cb28-4e27-89a1-d0c24ffcbf2e",
   "metadata": {},
   "source": [
    "### Set up"
   ]
  },
  {
   "cell_type": "code",
   "execution_count": null,
   "id": "270bf012-6cda-4114-a6fe-e6eecb98e517",
   "metadata": {},
   "outputs": [],
   "source": [
    "ticker = 'QQEW'\n",
    "\n",
    "# Required for Preprocessor and DataPrepTraining\n",
    "data_version = 0\n",
    "\n",
    "# Required for DataPrepTraining\n",
    "test_size = 0.3\n",
    "\n",
    "# Required for DataPrepTraining and CustomModel\n",
    "rolling_window = 20\n",
    "forecast_horizon = 20"
   ]
  },
  {
   "cell_type": "markdown",
   "id": "7c333f02-2cb3-4817-9c97-1dd270d3b368",
   "metadata": {},
   "source": [
    "### Instantiate DataLoader class"
   ]
  },
  {
   "cell_type": "code",
   "execution_count": null,
   "id": "51d34f8b-9072-4d3f-a193-415abba8a43a",
   "metadata": {},
   "outputs": [],
   "source": [
    "data = DataLoader(ticker)"
   ]
  },
  {
   "cell_type": "markdown",
   "id": "cada5689-f25a-4110-a88d-eb849a306d1a",
   "metadata": {},
   "source": [
    "We can read data from yahoo finance using $read\\_remote$ method.\n",
    "> Ticker already set during instantiation"
   ]
  },
  {
   "cell_type": "markdown",
   "id": "1f5812b4-b8a2-467e-b537-5431a221cceb",
   "metadata": {},
   "source": [
    "TODO: Needs to implement calender and class to method for weekly processing"
   ]
  },
  {
   "cell_type": "code",
   "execution_count": null,
   "id": "c22e4ca4-13aa-4b36-baae-6e5ade767cb2",
   "metadata": {},
   "outputs": [],
   "source": [
    "data.read_remote(until='2023-12-19', since='2006-5-2')"
   ]
  },
  {
   "cell_type": "markdown",
   "id": "8091fa64-76a3-4b0e-bd03-e2ec20556076",
   "metadata": {},
   "source": [
    "Retrieved data has been set as DataLoader attribute.<br>\n",
    "Let's access data."
   ]
  },
  {
   "cell_type": "code",
   "execution_count": null,
   "id": "27aa2687-e076-48a0-8dd1-e56c348df23b",
   "metadata": {},
   "outputs": [],
   "source": [
    "data.df.head(5)"
   ]
  },
  {
   "cell_type": "markdown",
   "id": "a6d504f3-b0ab-4e35-a13d-004af57089c3",
   "metadata": {},
   "source": [
    "We can write data to disk.<br>\n",
    "Please set version to avoid ambiguity."
   ]
  },
  {
   "cell_type": "code",
   "execution_count": null,
   "id": "1386ad04-d23a-4872-9e3c-487458d111a7",
   "metadata": {},
   "outputs": [],
   "source": [
    "data.save_raw_data(version=data_version)"
   ]
  },
  {
   "cell_type": "code",
   "execution_count": null,
   "id": "a07a7cee-fc86-447b-8ca6-85976a7ca25c",
   "metadata": {},
   "outputs": [],
   "source": []
  },
  {
   "cell_type": "markdown",
   "id": "90b1c8ae-9b0d-4d05-9de3-c4c0dc6bd8de",
   "metadata": {},
   "source": [
    "We can instantiate read raw data from local storage as well."
   ]
  },
  {
   "cell_type": "code",
   "execution_count": null,
   "id": "e2dd60e9-d0ce-4a74-92b1-c8dcf9c1e8bd",
   "metadata": {},
   "outputs": [],
   "source": [
    "data = DataLoader(ticker)\n",
    "data.read_local(filepath='data/{}_RAW_V{}.csv'.format(ticker, data_version), isRawData = True)"
   ]
  },
  {
   "cell_type": "markdown",
   "id": "6aefbb5b-bd7a-4b31-87bc-be5d006382bf",
   "metadata": {},
   "source": [
    "### Instantiate Preprocessor class"
   ]
  },
  {
   "cell_type": "markdown",
   "id": "e2a2173e-c6d8-460d-b25f-7f677c275316",
   "metadata": {},
   "source": [
    "Preprocessor is meant to perform technical analysis. It doesn't process data for training."
   ]
  },
  {
   "cell_type": "code",
   "execution_count": null,
   "id": "e5f33ebf-8489-4e89-9f51-b160f1922cd7",
   "metadata": {},
   "outputs": [],
   "source": [
    "prep = Preprocessor()\n",
    "prep.set_df(df=data.df, isRawData=True) # the next step will not run if isRaWData=False"
   ]
  },
  {
   "cell_type": "code",
   "execution_count": null,
   "id": "267c8e52-d165-4d52-af66-174052a29555",
   "metadata": {},
   "outputs": [],
   "source": [
    "ta = prep.prepare_technical()"
   ]
  },
  {
   "cell_type": "markdown",
   "id": "4035c700-d91c-43e8-a2c0-0118021c60d0",
   "metadata": {},
   "source": [
    "Check the first 5 rows. <br>\n",
    "First few rows will contain NaN due to the type of technical analysis."
   ]
  },
  {
   "cell_type": "code",
   "execution_count": null,
   "id": "87c466ca-a1a3-4875-996a-59e4ce2337a9",
   "metadata": {},
   "outputs": [],
   "source": [
    "ta.head(5)"
   ]
  },
  {
   "cell_type": "markdown",
   "id": "4db9d02b-1d48-49a7-b0dd-0c387dc9ae16",
   "metadata": {},
   "source": [
    "Check the last 5 rows.<br>\n",
    "It should not contain any NaN"
   ]
  },
  {
   "cell_type": "code",
   "execution_count": null,
   "id": "a612beb0-d90f-42b3-ba79-eeb7ed0007ad",
   "metadata": {},
   "outputs": [],
   "source": [
    "ta.tail(5)"
   ]
  },
  {
   "cell_type": "markdown",
   "id": "5cb9ccff-ed33-45cc-a38c-7fc57d68f878",
   "metadata": {},
   "source": [
    "Use $save\\_technical\\_analysis\\_data$ method from $DataLoader$ class to export technical analysis "
   ]
  },
  {
   "cell_type": "code",
   "execution_count": null,
   "id": "d211753f-6564-4cbf-9101-cd8c204f2a7e",
   "metadata": {},
   "outputs": [],
   "source": [
    "data.save_technical_analysis_data(\n",
    "    df=ta, \n",
    "    ticker=ticker, \n",
    "    version=data_version\n",
    ")"
   ]
  },
  {
   "cell_type": "markdown",
   "id": "9b08d116-5d2d-4104-a65b-1b9b12a65338",
   "metadata": {},
   "source": [
    "Technical data can be read using $read\\_local$ method from $DataLoader$ class."
   ]
  },
  {
   "cell_type": "code",
   "execution_count": null,
   "id": "efe045b9-a6d6-4bca-b95d-4babae07ed65",
   "metadata": {},
   "outputs": [],
   "source": [
    "data = DataLoader(ticker)\n",
    "data.read_local(filepath='data/{}_TA_V{}.csv'.format(ticker, data_version), isRawData = False) # TA = technocal analysis"
   ]
  },
  {
   "cell_type": "markdown",
   "id": "cbf8983f-72df-4987-ac9d-16dbc10aa6a2",
   "metadata": {},
   "source": [
    "$isRawData=False$ is required to read technical analysis data properly. <br>\n",
    "Set $isRawData=True$ to read raw data as shown previously."
   ]
  },
  {
   "cell_type": "markdown",
   "id": "fa046bcf-a1ca-497b-8748-c0bb5b1b93ec",
   "metadata": {},
   "source": [
    "Check if it works"
   ]
  },
  {
   "cell_type": "code",
   "execution_count": null,
   "id": "cb6ebbe6-8bde-4480-bb40-a19906358e28",
   "metadata": {},
   "outputs": [],
   "source": [
    "data.df.tail(5)"
   ]
  },
  {
   "cell_type": "markdown",
   "id": "5f3e28ea-9399-402d-873b-b473acb4bf33",
   "metadata": {},
   "source": [
    "### Instantiate DataPrepTraining class\n",
    ">Use set_df method to set technical analysis data as class attribute"
   ]
  },
  {
   "cell_type": "code",
   "execution_count": null,
   "id": "e4abef73-befd-48d7-9cd3-f49c5ae95f16",
   "metadata": {},
   "outputs": [],
   "source": [
    "dataprep = DataPrepTraining()\n",
    "dataprep.set_df(df=data.df)"
   ]
  },
  {
   "cell_type": "markdown",
   "id": "af901f28-453f-4b2d-969c-1188d7685066",
   "metadata": {},
   "source": [
    "Drop NaN and set rolling window, forecast horizon, and test size"
   ]
  },
  {
   "cell_type": "code",
   "execution_count": null,
   "id": "2578a931-666c-4a6b-883a-27854ef6e1a2",
   "metadata": {},
   "outputs": [],
   "source": [
    "dataprep.dropna()\n",
    "dataprep.set_rw_fh_test_size(rw=rolling_window, fh=forecast_horizon, test_size=test_size)"
   ]
  },
  {
   "cell_type": "markdown",
   "id": "e1107533-45c1-4cc9-b785-900ab050e9a9",
   "metadata": {},
   "source": [
    "Split the dataset"
   ]
  },
  {
   "cell_type": "code",
   "execution_count": null,
   "id": "d6758880-19ef-446e-a821-4c79b78a496d",
   "metadata": {},
   "outputs": [],
   "source": [
    "splits = dataprep.generate_train_test_predict_split()"
   ]
  },
  {
   "cell_type": "markdown",
   "id": "04695ed9-ec32-475f-9d41-665c4b3f173c",
   "metadata": {},
   "source": [
    "Let's see the splits"
   ]
  },
  {
   "cell_type": "code",
   "execution_count": null,
   "id": "bdec5973-a5f9-409b-9bb7-74d30b679b04",
   "metadata": {},
   "outputs": [],
   "source": [
    "# TODO\n",
    "# Implement validation set in splitter\n",
    "print('Training set: last 5 rows')\n",
    "print(splits['df_train'].tail(5))\n",
    "\n",
    "print()\n",
    "print('Test set: last 5 rows')\n",
    "print(splits['df_test'].tail(5))\n",
    "\n",
    "print()\n",
    "print('Prediction set: last 5 rows')\n",
    "print(splits['df_predict'].tail(5))"
   ]
  },
  {
   "cell_type": "markdown",
   "id": "d21d7846-0dec-4a9e-93ea-144adcd7ac6b",
   "metadata": {},
   "source": [
    "Normalise training set and test set.\n",
    "> Prediction set normalisation has not been implemented.<br>\n",
    "> Normalisation will return dict that includes normalised_data_py_list and scalers.<br>\n",
    "> rolling_window related operation done here"
   ]
  },
  {
   "cell_type": "code",
   "execution_count": null,
   "id": "3fdbb11f-9f05-4518-b4ef-b3f5f6335c15",
   "metadata": {},
   "outputs": [],
   "source": [
    "# Normalise all dataframes except prediction\n",
    "normalised_train = dataprep.normalise_dataframe(df=splits['df_train'], step=1, standard_norm=True)\n",
    "normalised_test = dataprep.normalise_dataframe(df=splits['df_test'], step=1, standard_norm=True)"
   ]
  },
  {
   "cell_type": "markdown",
   "id": "eae30e58-cdfb-4666-baf4-e0688ea2c2cb",
   "metadata": {},
   "source": [
    "Let's prepare features and labels.\n",
    "> Returns a dict containing features, labels, np.array(normalised_data_py_list)"
   ]
  },
  {
   "cell_type": "code",
   "execution_count": null,
   "id": "7745323e-f254-48f9-b0b2-1b2d7100aa88",
   "metadata": {},
   "outputs": [],
   "source": [
    "training_set = dataprep.prepare_feature_and_label(data_list=normalised_train['normalised_data_py_list'])\n",
    "test_set = dataprep.prepare_feature_and_label(data_list=normalised_test['normalised_data_py_list'])"
   ]
  },
  {
   "cell_type": "markdown",
   "id": "8ed0196d-88b6-4037-9b82-c49c827a0a34",
   "metadata": {},
   "source": [
    "### Let's save everything!"
   ]
  },
  {
   "cell_type": "code",
   "execution_count": null,
   "id": "0556d219-d5fa-4fb7-86da-7f361c82bf45",
   "metadata": {},
   "outputs": [],
   "source": [
    "data.save_all_data_for_model_training(\n",
    "    datadict={\n",
    "        'splits': splits, \n",
    "        'normalised_train': normalised_train, \n",
    "        'normalised_test':normalised_test,\n",
    "        'training_set': training_set,\n",
    "        'test_set': test_set\n",
    "    },\n",
    "    ticker=ticker,\n",
    "    version=data_version)"
   ]
  },
  {
   "cell_type": "markdown",
   "id": "ce961ef4-8678-41df-828f-9cb413217fb4",
   "metadata": {},
   "source": [
    "# Train model"
   ]
  },
  {
   "cell_type": "code",
   "execution_count": null,
   "id": "60954db6-a8b4-4b31-a447-f6a8fdf65225",
   "metadata": {},
   "outputs": [],
   "source": [
    "model = CustomModel()"
   ]
  },
  {
   "cell_type": "code",
   "execution_count": null,
   "id": "90d8bb74-cf99-4269-a306-ff3c52fa15e0",
   "metadata": {},
   "outputs": [],
   "source": [
    "model.read_all_data_for_model_training(filepath='data/{}_PREPROCESSED_V{}.pickle'.format(ticker, data_version))"
   ]
  },
  {
   "cell_type": "code",
   "execution_count": null,
   "id": "731ff515-1af7-4cb8-b2e3-6277f822579c",
   "metadata": {},
   "outputs": [],
   "source": [
    "X_train = model.dataset['training_set']['features']\n",
    "y_train = model.dataset['training_set']['labels']\n",
    "X_test = model.dataset['test_set']['features']\n",
    "y_test = model.dataset['test_set']['labels']"
   ]
  },
  {
   "cell_type": "markdown",
   "id": "aa4fa031-c0cc-43e9-8f64-ed3d119a2b1c",
   "metadata": {},
   "source": [
    "Complile the model"
   ]
  },
  {
   "cell_type": "code",
   "execution_count": null,
   "id": "499f0569-036c-439c-92a4-f6cdd7882763",
   "metadata": {},
   "outputs": [],
   "source": [
    "model.build_model(\n",
    "    input_n=int(rolling_window), \n",
    "    output_n = int(forecast_horizon), \n",
    "    drop_rate = 0.1, # this is equivalent to regularization\n",
    "    latent_n = 400, \n",
    "    feature_n = X_train.shape[2]\n",
    ")"
   ]
  },
  {
   "cell_type": "markdown",
   "id": "99fe3748-e3b9-4a8c-bcc0-36e83282e9a1",
   "metadata": {},
   "source": [
    "Train model"
   ]
  },
  {
   "cell_type": "code",
   "execution_count": null,
   "id": "f2ca62d2-1c4a-4c80-8c38-94082e0beb6e",
   "metadata": {},
   "outputs": [],
   "source": [
    "model.train(\n",
    "    X_train=X_train, \n",
    "    y_train=y_train, \n",
    "    X_test=X_test, \n",
    "    y_test=y_test,\n",
    "    epochs=60,\n",
    "    batch_size=20,\n",
    "    modelpath='model/QQEW_LSTM_RW20_FH20_V{}.h5'.format(data_version)\n",
    ")"
   ]
  },
  {
   "cell_type": "markdown",
   "id": "0a7d67f9-3f7f-47c8-bd9e-1bcb5c945196",
   "metadata": {},
   "source": [
    "Model can be loaded using $read\\_model\\_local()$ method of $ModelLoader$ class"
   ]
  }
 ],
 "metadata": {
  "kernelspec": {
   "display_name": "Python 3 (ipykernel)",
   "language": "python",
   "name": "python3"
  },
  "language_info": {
   "codemirror_mode": {
    "name": "ipython",
    "version": 3
   },
   "file_extension": ".py",
   "mimetype": "text/x-python",
   "name": "python",
   "nbconvert_exporter": "python",
   "pygments_lexer": "ipython3",
   "version": "3.8.16"
  }
 },
 "nbformat": 4,
 "nbformat_minor": 5
}
